{
 "cells": [
  {
   "cell_type": "code",
   "execution_count": 1,
   "metadata": {},
   "outputs": [],
   "source": [
    "import sqlite3\n",
    "import time\n",
    "import datetime\n",
    "import random"
   ]
  },
  {
   "cell_type": "code",
   "execution_count": 2,
   "metadata": {},
   "outputs": [],
   "source": [
    "conn = sqlite3.connect('class1.db')\n",
    "c = conn.cursor()"
   ]
  },
  {
   "cell_type": "code",
   "execution_count": 3,
   "metadata": {},
   "outputs": [],
   "source": [
    "def createTable():\n",
    "    c.execute('CREATE TABLE IF NOT EXISTS ourTable(unix REAL, datestamp TEXT, keyword TEXT, value REAL)')"
   ]
  },
  {
   "cell_type": "markdown",
   "metadata": {},
   "source": [
    "## Inserting Variables to database dynamically"
   ]
  },
  {
   "cell_type": "code",
   "execution_count": 4,
   "metadata": {},
   "outputs": [],
   "source": [
    "def dynamic_dataEntry():\n",
    "    unix = time.time()\n",
    "    date = str(datetime.datetime.fromtimestamp(unix).strftime('%Y-%m-%d %H:%M:%S'))\n",
    "    \n",
    "    keyword = 'Python'\n",
    "    \n",
    "    value = random.randrange(0,10)\n",
    "    \n",
    "    c.execute(\"INSERT INTO ourTable (unix, datestamp, keyword, value) VALUES(?, ?, ?, ?)\",\n",
    "             (unix, date, keyword, value))\n",
    "    \n",
    "    conn.commit()\n",
    "    "
   ]
  },
  {
   "cell_type": "code",
   "execution_count": 5,
   "metadata": {},
   "outputs": [],
   "source": [
    "createTable()\n",
    "for i in range(10):\n",
    "    dynamic_dataEntry()\n",
    "    time.sleep(2)\n",
    "\n",
    "# c.close()\n",
    "# conn.close()"
   ]
  },
  {
   "cell_type": "markdown",
   "metadata": {},
   "source": [
    "## Reading the database or table"
   ]
  },
  {
   "cell_type": "code",
   "execution_count": 6,
   "metadata": {},
   "outputs": [],
   "source": [
    "def read_from_db():\n",
    "    c.execute('SELECT * FROM ourTable')\n",
    "    data = c.fetchall()\n",
    "    print(data)"
   ]
  },
  {
   "cell_type": "code",
   "execution_count": 7,
   "metadata": {},
   "outputs": [
    {
     "name": "stdout",
     "output_type": "stream",
     "text": [
      "[(1576858220.8802922, '2019-12-20 21:40:20', 'Python', 6.0), (1576858222.895574, '2019-12-20 21:40:22', 'Python', 9.0), (1576858224.9032462, '2019-12-20 21:40:24', 'Python', 5.0), (1576858226.910795, '2019-12-20 21:40:26', 'Python', 3.0), (1576858228.918418, '2019-12-20 21:40:28', 'Python', 5.0), (1576858232.930326, '2019-12-20 21:40:32', 'Python', 0.0), (1576858234.938962, '2019-12-20 21:40:34', 'Python', 7.0), (1576858236.943095, '2019-12-20 21:40:36', 'Python', 9.0), (1576860407.100579, '2019-12-20 22:16:47', 'Python', 9.0), (1576860411.1055622, '2019-12-20 22:16:51', 'Python', 9.0), (1576860413.112421, '2019-12-20 22:16:53', 'Python', 0.0), (1576860415.119734, '2019-12-20 22:16:55', 'Python', 6.0), (1576860417.1275892, '2019-12-20 22:16:57', 'Python', 6.0), (1576860419.135376, '2019-12-20 22:16:59', 'Python', 4.0), (1576860423.148672, '2019-12-20 22:17:03', 'Python', 7.0), (1576860425.152189, '2019-12-20 22:17:05', 'Python', 7.0), (1576862063.373101, '2019-12-20 22:44:23', 'Python', 7.0), (1576862065.380491, '2019-12-20 22:44:25', 'Python', 3.0), (1576862067.3881788, '2019-12-20 22:44:27', 'Python', 8.0), (1576862069.39361, '2019-12-20 22:44:29', 'Python', 1.0), (1576862071.3971882, '2019-12-20 22:44:31', 'Python', 7.0), (1576862073.4007318, '2019-12-20 22:44:33', 'Python', 4.0), (1576862075.403363, '2019-12-20 22:44:35', 'Python', 3.0), (1576862077.412336, '2019-12-20 22:44:37', 'Python', 3.0), (1576862079.420038, '2019-12-20 22:44:39', 'Python', 1.0), (1576862081.427812, '2019-12-20 22:44:41', 'Python', 0.0)]\n"
     ]
    }
   ],
   "source": [
    "read_from_db()"
   ]
  },
  {
   "cell_type": "code",
   "execution_count": 8,
   "metadata": {},
   "outputs": [],
   "source": [
    "def read_from_db():\n",
    "    c.execute('''SELECT * FROM ourTable WHERE value=6 AND keyword=\"Python\"''')\n",
    "    for i in c.fetchall():\n",
    "        print(i)"
   ]
  },
  {
   "cell_type": "code",
   "execution_count": 9,
   "metadata": {},
   "outputs": [
    {
     "name": "stdout",
     "output_type": "stream",
     "text": [
      "(1576858220.8802922, '2019-12-20 21:40:20', 'Python', 6.0)\n",
      "(1576860415.119734, '2019-12-20 22:16:55', 'Python', 6.0)\n",
      "(1576860417.1275892, '2019-12-20 22:16:57', 'Python', 6.0)\n"
     ]
    }
   ],
   "source": [
    "read_from_db()"
   ]
  },
  {
   "cell_type": "code",
   "execution_count": 10,
   "metadata": {},
   "outputs": [],
   "source": [
    "def read_from_db():\n",
    "    c.execute('''SELECT * FROM ourTable WHERE unix> 1576858220.8802922 AND keyword=\"Python\"''')\n",
    "    for i in c.fetchall():\n",
    "        print(i)"
   ]
  },
  {
   "cell_type": "code",
   "execution_count": 11,
   "metadata": {},
   "outputs": [
    {
     "name": "stdout",
     "output_type": "stream",
     "text": [
      "(1576858222.895574, '2019-12-20 21:40:22', 'Python', 9.0)\n",
      "(1576858224.9032462, '2019-12-20 21:40:24', 'Python', 5.0)\n",
      "(1576858226.910795, '2019-12-20 21:40:26', 'Python', 3.0)\n",
      "(1576858228.918418, '2019-12-20 21:40:28', 'Python', 5.0)\n",
      "(1576858232.930326, '2019-12-20 21:40:32', 'Python', 0.0)\n",
      "(1576858234.938962, '2019-12-20 21:40:34', 'Python', 7.0)\n",
      "(1576858236.943095, '2019-12-20 21:40:36', 'Python', 9.0)\n",
      "(1576860407.100579, '2019-12-20 22:16:47', 'Python', 9.0)\n",
      "(1576860411.1055622, '2019-12-20 22:16:51', 'Python', 9.0)\n",
      "(1576860413.112421, '2019-12-20 22:16:53', 'Python', 0.0)\n",
      "(1576860415.119734, '2019-12-20 22:16:55', 'Python', 6.0)\n",
      "(1576860417.1275892, '2019-12-20 22:16:57', 'Python', 6.0)\n",
      "(1576860419.135376, '2019-12-20 22:16:59', 'Python', 4.0)\n",
      "(1576860423.148672, '2019-12-20 22:17:03', 'Python', 7.0)\n",
      "(1576860425.152189, '2019-12-20 22:17:05', 'Python', 7.0)\n",
      "(1576862063.373101, '2019-12-20 22:44:23', 'Python', 7.0)\n",
      "(1576862065.380491, '2019-12-20 22:44:25', 'Python', 3.0)\n",
      "(1576862067.3881788, '2019-12-20 22:44:27', 'Python', 8.0)\n",
      "(1576862069.39361, '2019-12-20 22:44:29', 'Python', 1.0)\n",
      "(1576862071.3971882, '2019-12-20 22:44:31', 'Python', 7.0)\n",
      "(1576862073.4007318, '2019-12-20 22:44:33', 'Python', 4.0)\n",
      "(1576862075.403363, '2019-12-20 22:44:35', 'Python', 3.0)\n",
      "(1576862077.412336, '2019-12-20 22:44:37', 'Python', 3.0)\n",
      "(1576862079.420038, '2019-12-20 22:44:39', 'Python', 1.0)\n",
      "(1576862081.427812, '2019-12-20 22:44:41', 'Python', 0.0)\n"
     ]
    }
   ],
   "source": [
    "read_from_db()"
   ]
  },
  {
   "cell_type": "code",
   "execution_count": 12,
   "metadata": {},
   "outputs": [],
   "source": [
    "def read_from_db():\n",
    "    c.execute('''SELECT datestamp FROM ourTable WHERE unix> 1576858220.8802922 AND keyword=\"Python\"''')\n",
    "    for i in c.fetchall():\n",
    "        print(i)"
   ]
  },
  {
   "cell_type": "code",
   "execution_count": 13,
   "metadata": {},
   "outputs": [
    {
     "name": "stdout",
     "output_type": "stream",
     "text": [
      "('2019-12-20 21:40:22',)\n",
      "('2019-12-20 21:40:24',)\n",
      "('2019-12-20 21:40:26',)\n",
      "('2019-12-20 21:40:28',)\n",
      "('2019-12-20 21:40:32',)\n",
      "('2019-12-20 21:40:34',)\n",
      "('2019-12-20 21:40:36',)\n",
      "('2019-12-20 22:16:47',)\n",
      "('2019-12-20 22:16:51',)\n",
      "('2019-12-20 22:16:53',)\n",
      "('2019-12-20 22:16:55',)\n",
      "('2019-12-20 22:16:57',)\n",
      "('2019-12-20 22:16:59',)\n",
      "('2019-12-20 22:17:03',)\n",
      "('2019-12-20 22:17:05',)\n",
      "('2019-12-20 22:44:23',)\n",
      "('2019-12-20 22:44:25',)\n",
      "('2019-12-20 22:44:27',)\n",
      "('2019-12-20 22:44:29',)\n",
      "('2019-12-20 22:44:31',)\n",
      "('2019-12-20 22:44:33',)\n",
      "('2019-12-20 22:44:35',)\n",
      "('2019-12-20 22:44:37',)\n",
      "('2019-12-20 22:44:39',)\n",
      "('2019-12-20 22:44:41',)\n"
     ]
    }
   ],
   "source": [
    "read_from_db()"
   ]
  },
  {
   "cell_type": "markdown",
   "metadata": {},
   "source": [
    "## Graphing the table"
   ]
  },
  {
   "cell_type": "code",
   "execution_count": 14,
   "metadata": {},
   "outputs": [],
   "source": [
    "import matplotlib.pyplot as plt"
   ]
  },
  {
   "cell_type": "code",
   "execution_count": 15,
   "metadata": {},
   "outputs": [],
   "source": [
    "def graph():\n",
    "    c.execute('SELECT unix, value FROM ourTable')\n",
    "    dates = []\n",
    "    values = []\n",
    "    data = c.fetchall()\n",
    "    for i in data:\n",
    "        dates.append(datetime.datetime.fromtimestamp(i[0]))\n",
    "        values.append(i[1])\n",
    "    \n",
    "    plt.figure(figsize=(10,8))\n",
    "    plt.plot_date(dates, values, '-')\n",
    "    plt.show()"
   ]
  },
  {
   "cell_type": "code",
   "execution_count": 16,
   "metadata": {},
   "outputs": [
    {
     "data": {
      "image/png": "[encoded data removed]",
      "text/plain": [
       "<Figure size 720x576 with 1 Axes>"
      ]
     },
     "metadata": {
      "needs_background": "light"
     },
     "output_type": "display_data"
    }
   ],
   "source": [
    "graph()"
   ]
  },
  {
   "cell_type": "markdown",
   "metadata": {},
   "source": [
    "## Del and Update"
   ]
  },
  {
   "cell_type": "code",
   "execution_count": 17,
   "metadata": {},
   "outputs": [],
   "source": [
    "def update():\n",
    "    c.execute('SELECT * FROM ourTable')\n",
    "    [print(i) for i in c.fetchall()]\n",
    "    \n",
    "    c.execute('UPDATE ourTable SET value = 99 WHERE value = 8')\n",
    "    conn.commit()\n",
    "    \n",
    "    c.execute('SELECT * FROM ourTable')\n",
    "    [print(i) for i in c.fetchall()]\n",
    "    \n",
    "    "
   ]
  },
  {
   "cell_type": "code",
   "execution_count": 18,
   "metadata": {},
   "outputs": [
    {
     "name": "stdout",
     "output_type": "stream",
     "text": [
      "(1576858220.8802922, '2019-12-20 21:40:20', 'Python', 6.0)\n",
      "(1576858222.895574, '2019-12-20 21:40:22', 'Python', 9.0)\n",
      "(1576858224.9032462, '2019-12-20 21:40:24', 'Python', 5.0)\n",
      "(1576858226.910795, '2019-12-20 21:40:26', 'Python', 3.0)\n",
      "(1576858228.918418, '2019-12-20 21:40:28', 'Python', 5.0)\n",
      "(1576858232.930326, '2019-12-20 21:40:32', 'Python', 0.0)\n",
      "(1576858234.938962, '2019-12-20 21:40:34', 'Python', 7.0)\n",
      "(1576858236.943095, '2019-12-20 21:40:36', 'Python', 9.0)\n",
      "(1576860407.100579, '2019-12-20 22:16:47', 'Python', 9.0)\n",
      "(1576860411.1055622, '2019-12-20 22:16:51', 'Python', 9.0)\n",
      "(1576860413.112421, '2019-12-20 22:16:53', 'Python', 0.0)\n",
      "(1576860415.119734, '2019-12-20 22:16:55', 'Python', 6.0)\n",
      "(1576860417.1275892, '2019-12-20 22:16:57', 'Python', 6.0)\n",
      "(1576860419.135376, '2019-12-20 22:16:59', 'Python', 4.0)\n",
      "(1576860423.148672, '2019-12-20 22:17:03', 'Python', 7.0)\n",
      "(1576860425.152189, '2019-12-20 22:17:05', 'Python', 7.0)\n",
      "(1576862063.373101, '2019-12-20 22:44:23', 'Python', 7.0)\n",
      "(1576862065.380491, '2019-12-20 22:44:25', 'Python', 3.0)\n",
      "(1576862067.3881788, '2019-12-20 22:44:27', 'Python', 8.0)\n",
      "(1576862069.39361, '2019-12-20 22:44:29', 'Python', 1.0)\n",
      "(1576862071.3971882, '2019-12-20 22:44:31', 'Python', 7.0)\n",
      "(1576862073.4007318, '2019-12-20 22:44:33', 'Python', 4.0)\n",
      "(1576862075.403363, '2019-12-20 22:44:35', 'Python', 3.0)\n",
      "(1576862077.412336, '2019-12-20 22:44:37', 'Python', 3.0)\n",
      "(1576862079.420038, '2019-12-20 22:44:39', 'Python', 1.0)\n",
      "(1576862081.427812, '2019-12-20 22:44:41', 'Python', 0.0)\n",
      "(1576858220.8802922, '2019-12-20 21:40:20', 'Python', 6.0)\n",
      "(1576858222.895574, '2019-12-20 21:40:22', 'Python', 9.0)\n",
      "(1576858224.9032462, '2019-12-20 21:40:24', 'Python', 5.0)\n",
      "(1576858226.910795, '2019-12-20 21:40:26', 'Python', 3.0)\n",
      "(1576858228.918418, '2019-12-20 21:40:28', 'Python', 5.0)\n",
      "(1576858232.930326, '2019-12-20 21:40:32', 'Python', 0.0)\n",
      "(1576858234.938962, '2019-12-20 21:40:34', 'Python', 7.0)\n",
      "(1576858236.943095, '2019-12-20 21:40:36', 'Python', 9.0)\n",
      "(1576860407.100579, '2019-12-20 22:16:47', 'Python', 9.0)\n",
      "(1576860411.1055622, '2019-12-20 22:16:51', 'Python', 9.0)\n",
      "(1576860413.112421, '2019-12-20 22:16:53', 'Python', 0.0)\n",
      "(1576860415.119734, '2019-12-20 22:16:55', 'Python', 6.0)\n",
      "(1576860417.1275892, '2019-12-20 22:16:57', 'Python', 6.0)\n",
      "(1576860419.135376, '2019-12-20 22:16:59', 'Python', 4.0)\n",
      "(1576860423.148672, '2019-12-20 22:17:03', 'Python', 7.0)\n",
      "(1576860425.152189, '2019-12-20 22:17:05', 'Python', 7.0)\n",
      "(1576862063.373101, '2019-12-20 22:44:23', 'Python', 7.0)\n",
      "(1576862065.380491, '2019-12-20 22:44:25', 'Python', 3.0)\n",
      "(1576862067.3881788, '2019-12-20 22:44:27', 'Python', 99.0)\n",
      "(1576862069.39361, '2019-12-20 22:44:29', 'Python', 1.0)\n",
      "(1576862071.3971882, '2019-12-20 22:44:31', 'Python', 7.0)\n",
      "(1576862073.4007318, '2019-12-20 22:44:33', 'Python', 4.0)\n",
      "(1576862075.403363, '2019-12-20 22:44:35', 'Python', 3.0)\n",
      "(1576862077.412336, '2019-12-20 22:44:37', 'Python', 3.0)\n",
      "(1576862079.420038, '2019-12-20 22:44:39', 'Python', 1.0)\n",
      "(1576862081.427812, '2019-12-20 22:44:41', 'Python', 0.0)\n"
     ]
    }
   ],
   "source": [
    "update()"
   ]
  },
  {
   "cell_type": "code",
   "execution_count": 19,
   "metadata": {},
   "outputs": [],
   "source": [
    "def DEL():\n",
    "    c.execute('SELECT * FROM ourTable')\n",
    "    [print(i) for i in c.fetchall()]\n",
    "    \n",
    "    print('================')\n",
    "    \n",
    "    c.execute('DELETE FROM ourTable WHERE value = 99')\n",
    "    conn.commit()\n",
    "    \n",
    "    c.execute('SELECT * FROM ourTable')\n",
    "    [print(i) for i in c.fetchall()]"
   ]
  },
  {
   "cell_type": "code",
   "execution_count": 20,
   "metadata": {},
   "outputs": [
    {
     "name": "stdout",
     "output_type": "stream",
     "text": [
      "(1576858220.8802922, '2019-12-20 21:40:20', 'Python', 6.0)\n",
      "(1576858222.895574, '2019-12-20 21:40:22', 'Python', 9.0)\n",
      "(1576858224.9032462, '2019-12-20 21:40:24', 'Python', 5.0)\n",
      "(1576858226.910795, '2019-12-20 21:40:26', 'Python', 3.0)\n",
      "(1576858228.918418, '2019-12-20 21:40:28', 'Python', 5.0)\n",
      "(1576858232.930326, '2019-12-20 21:40:32', 'Python', 0.0)\n",
      "(1576858234.938962, '2019-12-20 21:40:34', 'Python', 7.0)\n",
      "(1576858236.943095, '2019-12-20 21:40:36', 'Python', 9.0)\n",
      "(1576860407.100579, '2019-12-20 22:16:47', 'Python', 9.0)\n",
      "(1576860411.1055622, '2019-12-20 22:16:51', 'Python', 9.0)\n",
      "(1576860413.112421, '2019-12-20 22:16:53', 'Python', 0.0)\n",
      "(1576860415.119734, '2019-12-20 22:16:55', 'Python', 6.0)\n",
      "(1576860417.1275892, '2019-12-20 22:16:57', 'Python', 6.0)\n",
      "(1576860419.135376, '2019-12-20 22:16:59', 'Python', 4.0)\n",
      "(1576860423.148672, '2019-12-20 22:17:03', 'Python', 7.0)\n",
      "(1576860425.152189, '2019-12-20 22:17:05', 'Python', 7.0)\n",
      "(1576862063.373101, '2019-12-20 22:44:23', 'Python', 7.0)\n",
      "(1576862065.380491, '2019-12-20 22:44:25', 'Python', 3.0)\n",
      "(1576862067.3881788, '2019-12-20 22:44:27', 'Python', 99.0)\n",
      "(1576862069.39361, '2019-12-20 22:44:29', 'Python', 1.0)\n",
      "(1576862071.3971882, '2019-12-20 22:44:31', 'Python', 7.0)\n",
      "(1576862073.4007318, '2019-12-20 22:44:33', 'Python', 4.0)\n",
      "(1576862075.403363, '2019-12-20 22:44:35', 'Python', 3.0)\n",
      "(1576862077.412336, '2019-12-20 22:44:37', 'Python', 3.0)\n",
      "(1576862079.420038, '2019-12-20 22:44:39', 'Python', 1.0)\n",
      "(1576862081.427812, '2019-12-20 22:44:41', 'Python', 0.0)\n",
      "================\n",
      "(1576858220.8802922, '2019-12-20 21:40:20', 'Python', 6.0)\n",
      "(1576858222.895574, '2019-12-20 21:40:22', 'Python', 9.0)\n",
      "(1576858224.9032462, '2019-12-20 21:40:24', 'Python', 5.0)\n",
      "(1576858226.910795, '2019-12-20 21:40:26', 'Python', 3.0)\n",
      "(1576858228.918418, '2019-12-20 21:40:28', 'Python', 5.0)\n",
      "(1576858232.930326, '2019-12-20 21:40:32', 'Python', 0.0)\n",
      "(1576858234.938962, '2019-12-20 21:40:34', 'Python', 7.0)\n",
      "(1576858236.943095, '2019-12-20 21:40:36', 'Python', 9.0)\n",
      "(1576860407.100579, '2019-12-20 22:16:47', 'Python', 9.0)\n",
      "(1576860411.1055622, '2019-12-20 22:16:51', 'Python', 9.0)\n",
      "(1576860413.112421, '2019-12-20 22:16:53', 'Python', 0.0)\n",
      "(1576860415.119734, '2019-12-20 22:16:55', 'Python', 6.0)\n",
      "(1576860417.1275892, '2019-12-20 22:16:57', 'Python', 6.0)\n",
      "(1576860419.135376, '2019-12-20 22:16:59', 'Python', 4.0)\n",
      "(1576860423.148672, '2019-12-20 22:17:03', 'Python', 7.0)\n",
      "(1576860425.152189, '2019-12-20 22:17:05', 'Python', 7.0)\n",
      "(1576862063.373101, '2019-12-20 22:44:23', 'Python', 7.0)\n",
      "(1576862065.380491, '2019-12-20 22:44:25', 'Python', 3.0)\n",
      "(1576862069.39361, '2019-12-20 22:44:29', 'Python', 1.0)\n",
      "(1576862071.3971882, '2019-12-20 22:44:31', 'Python', 7.0)\n",
      "(1576862073.4007318, '2019-12-20 22:44:33', 'Python', 4.0)\n",
      "(1576862075.403363, '2019-12-20 22:44:35', 'Python', 3.0)\n",
      "(1576862077.412336, '2019-12-20 22:44:37', 'Python', 3.0)\n",
      "(1576862079.420038, '2019-12-20 22:44:39', 'Python', 1.0)\n",
      "(1576862081.427812, '2019-12-20 22:44:41', 'Python', 0.0)\n"
     ]
    }
   ],
   "source": [
    "DEL()"
   ]
  },
  {
   "cell_type": "code",
   "execution_count": null,
   "metadata": {},
   "outputs": [],
   "source": []
  }
 ],
 "metadata": {
  "kernelspec": {
   "display_name": "Python 3",
   "language": "python",
   "name": "python3"
  },
  "language_info": {
   "codemirror_mode": {
    "name": "ipython",
    "version": 3
   },
   "file_extension": ".py",
   "mimetype": "text/x-python",
   "name": "python",
   "nbconvert_exporter": "python",
   "pygments_lexer": "ipython3",
   "version": "3.7.5"
  }
 },
 "nbformat": 4,
 "nbformat_minor": 2
}
